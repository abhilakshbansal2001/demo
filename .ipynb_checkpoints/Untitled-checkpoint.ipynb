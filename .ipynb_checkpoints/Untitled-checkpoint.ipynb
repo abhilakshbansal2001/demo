{
 "cells": [
  {
   "cell_type": "code",
   "execution_count": 1,
   "id": "3af9af6a",
   "metadata": {},
   "outputs": [
    {
     "name": "stdout",
     "output_type": "stream",
     "text": [
      "Array before the rearrangement: \n",
      "[-1, 2, 1, 3, -1, -2, -3]\n",
      "2 -1\n",
      "1 2\n",
      "3 1\n",
      "-1 3\n",
      "-1 2\n",
      "-1 -1\n",
      "-2 2\n",
      "-2 -1\n",
      "-2 -1\n",
      "-3 -2\n",
      "-3 1\n",
      "-3 2\n",
      "Array after the rearrangement: \n",
      "[-1, 2, 1, 3, -1, -2, -3]\n"
     ]
    }
   ],
   "source": [
    "from operator import ne\n",
    "import functools\n",
    "\n",
    "\n",
    "def compare(num1, num2):\n",
    "#     print(num1, num2\n",
    "    # condition 1\n",
    "    if (num1 > 0 and num2 > 0) or (num1 < 0 and num2 < 0) or (num1 > 0 and num2 < 0):\n",
    "        return -1\n",
    "\n",
    "        # condition 2\n",
    "    if (num1 < 0 and num2 > 0):\n",
    "        return 0\n",
    "\n",
    "        # condition 3\n",
    "    if (num1 == 0 and num2 < 0) or (num1 > 0 and num2 == 0):\n",
    "        return -1\n",
    "\n",
    "        # condition 4\n",
    "    if (num1 == 0 and num2 > 0) or (num1 < 0 and num2 == 0):\n",
    "        return 0\n",
    "\n",
    "\n",
    "arr = [-1, 2, 1, 3, -1, -2, -3]\n",
    "# printing the array before rearrangement\n",
    "print(\"Array before the rearrangement: \")\n",
    "print(arr)\n",
    "\n",
    "# intiliazing the temp variable to bring negative elements at the front\n",
    "\n",
    "sorted(arr, key=functools.cmp_to_key(compare))\n",
    "\n",
    "\n",
    "# printing the array before rearrangement\n",
    "print(\"Array after the rearrangement: \")\n",
    "print(arr)"
   ]
  },
  {
   "cell_type": "code",
   "execution_count": null,
   "id": "ad07515f",
   "metadata": {},
   "outputs": [],
   "source": []
  }
 ],
 "metadata": {
  "kernelspec": {
   "display_name": "Python 3 (ipykernel)",
   "language": "python",
   "name": "python3"
  },
  "language_info": {
   "codemirror_mode": {
    "name": "ipython",
    "version": 3
   },
   "file_extension": ".py",
   "mimetype": "text/x-python",
   "name": "python",
   "nbconvert_exporter": "python",
   "pygments_lexer": "ipython3",
   "version": "3.9.6"
  }
 },
 "nbformat": 4,
 "nbformat_minor": 5
}
