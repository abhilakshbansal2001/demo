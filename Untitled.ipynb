{
 "cells": [
  {
   "cell_type": "code",
   "execution_count": 1,
   "id": "fedc56e1",
   "metadata": {},
   "outputs": [
    {
     "name": "stdout",
     "output_type": "stream",
     "text": [
      "Array before the rearrangement: \n",
      "[-1, 2, 1, 3, -1, -2, -3]\n",
      "2 -1\n",
      "1 2\n",
      "3 1\n",
      "-1 3\n",
      "-1 2\n",
      "-1 -1\n",
      "-2 2\n",
      "-2 -1\n",
      "-2 -1\n",
      "-3 -2\n",
      "-3 1\n",
      "-3 2\n",
      "Array after the rearrangement: \n",
      "[-1, 2, 1, 3, -1, -2, -3]\n"
     ]
    }
   ],
   "source": [
    "from operator import ne\n",
    "import functools\n",
    "\n",
    "\n",
    "def compare(num1, num2):\n",
    "#     print(num1, num2\n",
    "    # condition 1\n",
    "    if (num1 > 0 and num2 > 0) or (num1 < 0 and num2 < 0) or (num1 < 0 and num2 > 0):\n",
    "        return 0\n",
    "\n",
    "        # condition 2\n",
    "    if (num1 < 0 and num2 > 0):\n",
    "        return -1\n",
    "\n",
    "        # condition 3\n",
    "    if (num1 == 0 and num2 < 0) or (num1 > 0 and num2 == 0):\n",
    "        return -1\n",
    "\n",
    "        # condition 4\n",
    "    if (num1 == 0 and num2 > 0) or (num1 < 0 and num2 == 0):\n",
    "        return 0\n",
    "\n",
    "\n",
    "arr = [-1, 2, 1, 3, -1, -2, -3]\n",
    "# printing the array before rearrangement\n",
    "print(\"Array before the rearrangement: \")\n",
    "print(arr)\n",
    "\n",
    "# intiliazing the temp variable to bring negative elements at the front\n",
    "\n",
    "sorted(arr, key=functools.cmp_to_key(compare))\n",
    "\n",
    "\n",
    "# printing the array before rearrangement\n",
    "print(\"Array after the rearrangement: \")\n",
    "print(arr)"
   ]
  },
  {
   "cell_type": "code",
   "execution_count": 19,
   "id": "92689e9d",
   "metadata": {
    "scrolled": true
   },
   "outputs": [
    {
     "name": "stdout",
     "output_type": "stream",
     "text": [
      "Array before the rearrangement: \n",
      "[-1, 2, 1, 3, -1, -2, -3]\n"
     ]
    },
    {
     "ename": "TypeError",
     "evalue": "<lambda>() missing 1 required positional argument: 'y'",
     "output_type": "error",
     "traceback": [
      "\u001b[1;31m---------------------------------------------------------------------------\u001b[0m",
      "\u001b[1;31mTypeError\u001b[0m                                 Traceback (most recent call last)",
      "\u001b[1;32mC:\\Users\\ABHILA~1\\AppData\\Local\\Temp/ipykernel_20100/1993956917.py\u001b[0m in \u001b[0;36m<module>\u001b[1;34m\u001b[0m\n\u001b[0;32m     39\u001b[0m \u001b[0msorted\u001b[0m\u001b[1;33m(\u001b[0m\u001b[0marr\u001b[0m\u001b[1;33m,\u001b[0m \u001b[0mkey\u001b[0m\u001b[1;33m=\u001b[0m\u001b[0mfunctools\u001b[0m\u001b[1;33m.\u001b[0m\u001b[0mcmp_to_key\u001b[0m\u001b[1;33m(\u001b[0m\u001b[0mcompare\u001b[0m\u001b[1;33m)\u001b[0m\u001b[1;33m)\u001b[0m\u001b[1;33m\u001b[0m\u001b[1;33m\u001b[0m\u001b[0m\n\u001b[0;32m     40\u001b[0m \u001b[1;33m\u001b[0m\u001b[0m\n\u001b[1;32m---> 41\u001b[1;33m \u001b[0marr\u001b[0m\u001b[1;33m.\u001b[0m\u001b[0msort\u001b[0m\u001b[1;33m(\u001b[0m\u001b[0mkey\u001b[0m\u001b[1;33m=\u001b[0m\u001b[1;32mlambda\u001b[0m \u001b[0mx\u001b[0m\u001b[1;33m,\u001b[0m \u001b[0my\u001b[0m\u001b[1;33m:\u001b[0m \u001b[0mcompare2\u001b[0m\u001b[1;33m(\u001b[0m\u001b[0mx\u001b[0m\u001b[1;33m,\u001b[0m \u001b[0my\u001b[0m\u001b[1;33m)\u001b[0m\u001b[1;33m)\u001b[0m\u001b[1;33m\u001b[0m\u001b[1;33m\u001b[0m\u001b[0m\n\u001b[0m\u001b[0;32m     42\u001b[0m \u001b[1;31m# printing the array before rearrangement\u001b[0m\u001b[1;33m\u001b[0m\u001b[1;33m\u001b[0m\u001b[1;33m\u001b[0m\u001b[0m\n\u001b[0;32m     43\u001b[0m \u001b[0mprint\u001b[0m\u001b[1;33m(\u001b[0m\u001b[1;34m\"Array after the rearrangement: \"\u001b[0m\u001b[1;33m)\u001b[0m\u001b[1;33m\u001b[0m\u001b[1;33m\u001b[0m\u001b[0m\n",
      "\u001b[1;31mTypeError\u001b[0m: <lambda>() missing 1 required positional argument: 'y'"
     ]
    }
   ],
   "source": [
    "from operator import ne\n",
    "import functools\n",
    "\n",
    "\n",
    "def compare(num1, num2):\n",
    "#     print(num1, num2)\n",
    "    # condition 1\n",
    "    if (num1 > 0 and num2 > 0) or (num1 < 0 and num2 < 0) or (num1 > 0 and num2 < 0):\n",
    "        return 1\n",
    "\n",
    "        # condition 2\n",
    "    if (num1 < 0 and num2 > 0):\n",
    "        return -1\n",
    "\n",
    "        # condition 3\n",
    "    if (num1 == 0 and num2 < 0) or (num1 > 0 and num2 == 0):\n",
    "        return 1\n",
    "\n",
    "        # condition 4\n",
    "    if (num1 == 0 and num2 > 0) or (num1 < 0 and num2 == 0):\n",
    "        return -1\n",
    "\n",
    "\n",
    "arr = [-1, 2, 1, 3, -1, -2, -3]\n",
    "# printing the array before rearrangement\n",
    "print(\"Array before the rearrangement: \")\n",
    "print(arr)\n",
    "\n",
    "def compare2(item1, item2):\n",
    "    if item1 < item2:\n",
    "        return -1\n",
    "    elif item1 > item2:\n",
    "        return 1\n",
    "    else:\n",
    "        return 0\n",
    "\n",
    "# intiliazing the temp variable to bring negative elements at the front\n",
    "\n",
    "sorted(arr, key=functools.cmp_to_key(compare))\n",
    "\n",
    "arr.sort(key=lambda x, y: compare2(x, y))\n",
    "# printing the array before rearrangement\n",
    "print(\"Array after the rearrangement: \")\n",
    "print(arr)"
   ]
  },
  {
   "cell_type": "code",
   "execution_count": 20,
   "id": "f20d9f0a",
   "metadata": {},
   "outputs": [],
   "source": [
    "def compare2(item1, item2):\n",
    "    if item1 < item2:\n",
    "        return -1\n",
    "    elif item1 > item2:\n",
    "        return 1\n",
    "    else:\n",
    "        return 0"
   ]
  },
  {
   "cell_type": "code",
   "execution_count": 21,
   "id": "908e5882",
   "metadata": {},
   "outputs": [],
   "source": [
    "arr = [-1, 2, 1, 3, -1, -2, -3]"
   ]
  },
  {
   "cell_type": "code",
   "execution_count": 24,
   "id": "b90bb9b6",
   "metadata": {},
   "outputs": [],
   "source": [
    "l = sorted(arr, key=functools.cmp_to_key(compare2))"
   ]
  },
  {
   "cell_type": "code",
   "execution_count": 26,
   "id": "a88a49c5",
   "metadata": {},
   "outputs": [
    {
     "data": {
      "text/plain": [
       "[-3, -2, -1, -1, 1, 2, 3]"
      ]
     },
     "execution_count": 26,
     "metadata": {},
     "output_type": "execute_result"
    }
   ],
   "source": [
    "l"
   ]
  },
  {
   "cell_type": "code",
   "execution_count": 27,
   "id": "a6846a93",
   "metadata": {},
   "outputs": [
    {
     "name": "stdout",
     "output_type": "stream",
     "text": [
      "Array before the rearrangement: \n",
      "[-1, 2, 1, 3, -1, -2, -3]\n"
     ]
    },
    {
     "ename": "TypeError",
     "evalue": "compare() missing 1 required positional argument: 'num2'",
     "output_type": "error",
     "traceback": [
      "\u001b[1;31m---------------------------------------------------------------------------\u001b[0m",
      "\u001b[1;31mTypeError\u001b[0m                                 Traceback (most recent call last)",
      "\u001b[1;32mC:\\Users\\ABHILA~1\\AppData\\Local\\Temp/ipykernel_20100/1911790831.py\u001b[0m in \u001b[0;36m<module>\u001b[1;34m\u001b[0m\n\u001b[0;32m     25\u001b[0m \u001b[1;31m# intiliazing the temp variable to bring negative elements at the front\u001b[0m\u001b[1;33m\u001b[0m\u001b[1;33m\u001b[0m\u001b[1;33m\u001b[0m\u001b[0m\n\u001b[0;32m     26\u001b[0m \u001b[1;33m\u001b[0m\u001b[0m\n\u001b[1;32m---> 27\u001b[1;33m \u001b[0marr\u001b[0m \u001b[1;33m=\u001b[0m \u001b[0marr\u001b[0m\u001b[1;33m.\u001b[0m\u001b[0msort\u001b[0m\u001b[1;33m(\u001b[0m\u001b[0mkey\u001b[0m\u001b[1;33m=\u001b[0m\u001b[0mcompare\u001b[0m\u001b[1;33m)\u001b[0m\u001b[1;33m\u001b[0m\u001b[1;33m\u001b[0m\u001b[0m\n\u001b[0m\u001b[0;32m     28\u001b[0m \u001b[1;33m\u001b[0m\u001b[0m\n\u001b[0;32m     29\u001b[0m \u001b[1;31m# printing the array before rearrangement\u001b[0m\u001b[1;33m\u001b[0m\u001b[1;33m\u001b[0m\u001b[1;33m\u001b[0m\u001b[0m\n",
      "\u001b[1;31mTypeError\u001b[0m: compare() missing 1 required positional argument: 'num2'"
     ]
    }
   ],
   "source": [
    "\n",
    "def compare(num1, num2):\n",
    "    print(num1, num2)\n",
    "    # condition 1\n",
    "    if (num1 > 0 and num2 > 0) or (num1 < 0 and num2 < 0) or (num1 > 0 and num2 < 0):\n",
    "        return 0\n",
    "\n",
    "        # condition 2\n",
    "    if (num1 < 0 and num2 > 0):\n",
    "        return 1\n",
    "\n",
    "        # condition 3\n",
    "    if (num1 == 0 and num2 < 0) or (num1 > 0 and num2 == 0):\n",
    "        return 0\n",
    "\n",
    "        # condition 4\n",
    "    if (num1 == 0 and num2 > 0) or (num1 < 0 and num2 == 0):\n",
    "        return 1\n",
    "\n",
    "\n",
    "arr = [-1, 2, 1, 3, -1, -2, -3]\n",
    "# printing the array before rearrangement\n",
    "print(\"Array before the rearrangement: \")\n",
    "print(arr)\n",
    "\n",
    "# intiliazing the temp variable to bring negative elements at the front\n",
    "\n",
    "arr = arr.sort(key=compare)\n",
    "\n",
    "# printing the array before rearrangement\n",
    "print(\"Array after the rearrangement: \")\n",
    "print(arr)"
   ]
  },
  {
   "cell_type": "code",
   "execution_count": 54,
   "id": "c04c4602",
   "metadata": {},
   "outputs": [
    {
     "name": "stdout",
     "output_type": "stream",
     "text": [
      "2 -1\n",
      "1 2\n",
      "3 1\n",
      "-1 3\n",
      "-1 1\n",
      "-1 2\n",
      "-1 -1\n",
      "-2 2\n",
      "-2 -1\n",
      "-3 2\n",
      "-3 -1\n",
      "-3 -2\n",
      "[-1, -1, -2, -3, 2, 1, 3]\n"
     ]
    }
   ],
   "source": [
    "\n",
    "def compare(num1, num2):\n",
    "    \n",
    "    if (num1 > 0 and num2 > 0) or (num1 < 0 and num2 < 0) or (num1 > 0 and num2 < 0):\n",
    "        return 0\n",
    "\n",
    "        # condition 2\n",
    "    if (num1 < 0 and num2 > 0):\n",
    "        return -1\n",
    "\n",
    "        # condition 3\n",
    "    if (num1 == 0 and num2 < 0) or (num1 > 0 and num2 == 0):\n",
    "        return 0\n",
    "\n",
    "        # condition 4\n",
    "    if (num1 == 0 and num2 > 0) or (num1 < 0 and num2 == 0):\n",
    "        return 1\n",
    "arr = [-1, 2, 1, 3, -1, -2, -3]\n",
    "arr = sorted(arr, key=functools.cmp_to_key(compare))\n",
    "print(arr)"
   ]
  },
  {
   "cell_type": "code",
   "execution_count": 49,
   "id": "a3aa19db",
   "metadata": {},
   "outputs": [],
   "source": []
  },
  {
   "cell_type": "code",
   "execution_count": 50,
   "id": "90536b89",
   "metadata": {},
   "outputs": [
    {
     "name": "stdout",
     "output_type": "stream",
     "text": [
      "2 5\n",
      "1 2\n",
      "3 1\n",
      "-1 3\n",
      "-1 1\n",
      "-1 2\n",
      "-1 5\n",
      "-2 2\n",
      "-2 5\n",
      "-2 -1\n",
      "-3 2\n",
      "-3 -2\n",
      "-3 5\n"
     ]
    }
   ],
   "source": [
    "l = sorted(arr, key=functools.cmp_to_key(compare))"
   ]
  },
  {
   "cell_type": "code",
   "execution_count": 51,
   "id": "3c18a49e",
   "metadata": {},
   "outputs": [
    {
     "data": {
      "text/plain": [
       "[-1, -2, -3, 5, 2, 1, 3]"
      ]
     },
     "execution_count": 51,
     "metadata": {},
     "output_type": "execute_result"
    }
   ],
   "source": [
    "l"
   ]
  },
  {
   "cell_type": "code",
   "execution_count": null,
   "id": "7a79dbe6",
   "metadata": {},
   "outputs": [],
   "source": []
  }
 ],
 "metadata": {
  "kernelspec": {
   "display_name": "Python 3 (ipykernel)",
   "language": "python",
   "name": "python3"
  },
  "language_info": {
   "codemirror_mode": {
    "name": "ipython",
    "version": 3
   },
   "file_extension": ".py",
   "mimetype": "text/x-python",
   "name": "python",
   "nbconvert_exporter": "python",
   "pygments_lexer": "ipython3",
   "version": "3.9.6"
  }
 },
 "nbformat": 4,
 "nbformat_minor": 5
}
